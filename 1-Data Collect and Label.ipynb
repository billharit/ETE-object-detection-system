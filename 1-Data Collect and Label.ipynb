{
 "cells": [
  {
   "cell_type": "markdown",
   "metadata": {},
   "source": [
    "### Collect Image using openCV"
   ]
  },
  {
   "cell_type": "code",
   "execution_count": 2,
   "metadata": {},
   "outputs": [],
   "source": [
    "import os\n",
    "import time\n",
    "import uuid\n",
    "import cv2"
   ]
  },
  {
   "cell_type": "code",
   "execution_count": 3,
   "metadata": {},
   "outputs": [
    {
     "data": {
      "text/plain": [
       "UUID('e5b650f5-6653-11ee-96ed-d05099a71dfe')"
      ]
     },
     "execution_count": 3,
     "metadata": {},
     "output_type": "execute_result"
    }
   ],
   "source": [
    "# Unique File Naming\n",
    "uuid.uuid1()"
   ]
  },
  {
   "cell_type": "code",
   "execution_count": 4,
   "metadata": {},
   "outputs": [],
   "source": [
    "IMAGES_PATH = os.path.join('data', 'images')\n",
    "# Desired number of images taken.\n",
    "number_images = 30"
   ]
  },
  {
   "cell_type": "code",
   "execution_count": 7,
   "metadata": {},
   "outputs": [
    {
     "name": "stdout",
     "output_type": "stream",
     "text": [
      "Collecting Image - Index 0\n",
      "Collecting Image - Index 1\n",
      "Collecting Image - Index 2\n",
      "Collecting Image - Index 3\n",
      "Collecting Image - Index 4\n",
      "Collecting Image - Index 5\n",
      "Collecting Image - Index 6\n",
      "Collecting Image - Index 7\n",
      "Collecting Image - Index 8\n",
      "Collecting Image - Index 9\n",
      "Collecting Image - Index 10\n",
      "Collecting Image - Index 11\n",
      "Collecting Image - Index 12\n",
      "Collecting Image - Index 13\n",
      "Collecting Image - Index 14\n",
      "Collecting Image - Index 15\n",
      "Collecting Image - Index 16\n",
      "Collecting Image - Index 17\n",
      "Collecting Image - Index 18\n",
      "Collecting Image - Index 19\n",
      "Collecting Image - Index 20\n",
      "Collecting Image - Index 21\n",
      "Collecting Image - Index 22\n",
      "Collecting Image - Index 23\n",
      "Collecting Image - Index 24\n",
      "Collecting Image - Index 25\n",
      "Collecting Image - Index 26\n",
      "Collecting Image - Index 27\n",
      "Collecting Image - Index 28\n",
      "Collecting Image - Index 29\n"
     ]
    }
   ],
   "source": [
    "# This Cell run openCV and Capture number_images*of images from camera\n",
    "capture_video = cv2.VideoCapture(1)\n",
    "for i in range(number_images):\n",
    "    print(\"Collecting Image - Index {}\".format(i))\n",
    "    ret, frame = capture_video.read()\n",
    "    image_name = os.path.join(IMAGES_PATH,f'{str(uuid.uuid1())}.jpg' )\n",
    "    cv2.imwrite(image_name, frame)\n",
    "    cv2.imshow('Video Capture', frame)\n",
    "    time.sleep(0.5)\n",
    "\n",
    "    if cv2.waitKey(1) & 0xFF == ord('q'):\n",
    "        break\n",
    "capture_video.release()\n",
    "cv2.destroyAllWindows()"
   ]
  },
  {
   "cell_type": "markdown",
   "metadata": {},
   "source": [
    "### Annotation with Labelme"
   ]
  },
  {
   "cell_type": "code",
   "execution_count": 11,
   "metadata": {},
   "outputs": [
    {
     "name": "stderr",
     "output_type": "stream",
     "text": [
      "[INFO   ] __init__:get_config:70 - Loading config file from: C:\\Users\\USER\\.labelmerc\n"
     ]
    }
   ],
   "source": [
    "!labelme"
   ]
  }
 ],
 "metadata": {
  "kernelspec": {
   "display_name": "faceenv",
   "language": "python",
   "name": "python3"
  },
  "language_info": {
   "codemirror_mode": {
    "name": "ipython",
    "version": 3
   },
   "file_extension": ".py",
   "mimetype": "text/x-python",
   "name": "python",
   "nbconvert_exporter": "python",
   "pygments_lexer": "ipython3",
   "version": "3.11.2"
  },
  "orig_nbformat": 4
 },
 "nbformat": 4,
 "nbformat_minor": 2
}
